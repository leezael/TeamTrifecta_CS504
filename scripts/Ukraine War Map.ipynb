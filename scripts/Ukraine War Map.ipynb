{
 "cells": [
  {
   "cell_type": "code",
   "execution_count": 11,
   "id": "e095fc74",
   "metadata": {},
   "outputs": [],
   "source": [
    "import pandas as pd\n",
    "import folium\n",
    "import ipywidgets as widgets  \n",
    "from ipywidgets import SelectMultiple, SelectionRangeSlider\n",
    "from tabulate import tabulate\n",
    "\n",
    "\n",
    "# Read in the War Data Set\n",
    "war_data = pd.read_csv(r'data/war_events.csv', usecols=['YEAR_MONTH', 'Date Mapper', 'EVENT_TYPE', 'SUB_EVENT_TYPE', 'ADMIN1', 'LATITUDE', 'LONGITUDE', 'FATALITIES', 'NOTES'])\n",
    "\n",
    "war_data = war_data[war_data.ADMIN1.notnull()]\n",
    "# Read in Exports Data and Rename for Merging\n",
    "mapper = pd.read_pickle(r'data\\commodity_mapper.pickle').set_index('Original').to_dict()['New']\n",
    "\n",
    "exports = pd.read_csv(r'data/commodity_exports.csv', usecols=['Date Mapper', 'Partner', 'Commodity', 'Netweight (kg)', 'Trade Value (US$)'])\n",
    "\n",
    "exports['Commodity'] = exports['Commodity'].map(mapper)\n",
    "\n",
    "exports = exports[exports['Partner'] == 'Ukraine']\n",
    "\n",
    "# Read in Price Data\n",
    "prices = pd.read_csv(r'data/commodity_prices.csv')\n",
    "\n",
    "# Convert Dates to DateTime\n",
    "prices['Date'], exports['Date Mapper'], war_data['Date Mapper'] = pd.to_datetime(prices['Date']), pd.to_datetime(exports['Date Mapper']), pd.to_datetime(war_data['Date Mapper'])\n",
    "\n",
    "\n",
    "# Prep for Merge\n",
    "prices['map'] = prices['Date'].astype(str) + prices['Commodity']\n",
    "\n",
    "exports['map'] = exports['Date Mapper'].astype(str) + exports['Commodity']\n",
    "\n",
    "# TODO\n",
    "# ADD how prices and exports changed after events\n",
    "commodity_data = exports.merge(prices, how='left', on='map')\n",
    "commodity_data = commodity_data[commodity_data.Commodity_x != 'Drop']\n",
    "commodity_data = commodity_data[['Date Mapper', 'Partner', 'Commodity_x', 'Netweight (kg)', 'Trade Value (US$)', 'Amount']]\n",
    "commodity_data.rename(columns={'Commodity_x':'Commodity'}, inplace=True)\n",
    "commodity_data['Date'] = commodity_data['Date Mapper'].dt.strftime('%b-%y')\n"
   ]
  },
  {
   "cell_type": "code",
   "execution_count": 12,
   "id": "1cc0a9ab",
   "metadata": {},
   "outputs": [],
   "source": [
    "color_map = {'2018': '#DD351A',\n",
    "             '2019': '#4EA244',\n",
    "             '2020': '#679FD7',\n",
    "             '2021': '#D7D767',\n",
    "             '2022': '#C967D7'}"
   ]
  },
  {
   "cell_type": "code",
   "execution_count": 15,
   "id": "34c02dc8",
   "metadata": {
    "scrolled": true
   },
   "outputs": [
    {
     "data": {
      "application/vnd.jupyter.widget-view+json": {
       "model_id": "13e4d76a205c42828297384e3ca91846",
       "version_major": 2,
       "version_minor": 0
      },
      "text/plain": [
       "interactive(children=(SelectMultiple(description='date', options=('Jan-18', 'Feb-18', 'Mar-18', 'Apr-18', 'May…"
      ]
     },
     "metadata": {},
     "output_type": "display_data"
    }
   ],
   "source": [
    "def generate_map(date: list, event_type: list, region: list, commodity: list) -> 'Subsected DataFrame':\n",
    "    \n",
    "    try:\n",
    "        map_data = war_data[(war_data['YEAR_MONTH'].isin(date))\n",
    "                        &(war_data['EVENT_TYPE'].isin(event_type))\n",
    "                        &(war_data['ADMIN1'].isin(region))]\n",
    "        \n",
    "        table_data = commodity_data[(commodity_data['Commodity'].isin(commodity)) \n",
    "                        &(commodity_data['Date'].isin(date))]\n",
    "    \n",
    "    # Account for Non-Selection when rendered\n",
    "    except IndexError:\n",
    "        return 'No Data For Selected Parameters'\n",
    "\n",
    "    # Create the Interative Map\n",
    "    i_map = folium.Map(\n",
    "            location=[war_data[\"LATITUDE\"].mean(), war_data[\"LONGITUDE\"].mean()-3.5],\n",
    "            tiles='openstreetmap',\n",
    "            zoom_start=5.5,\n",
    "            zoom_control=False,\n",
    "            scrollWheelZoom=False,\n",
    "            dragging=False)\n",
    "\n",
    "    #TODO Make Prettier\n",
    "    #Create Markers where events happened\n",
    "    map_data.apply(\n",
    "        lambda row: folium.CircleMarker(\n",
    "            location=[row['LATITUDE'], row['LONGITUDE']],\n",
    "            radius=(row['FATALITIES'] + 2)/5,\n",
    "            tooltip='<h5>Click here for more info</h5>',\n",
    "            popup=row['NOTES'],\n",
    "            stroke=True,\n",
    "            weight=2,\n",
    "            color=color_map['20' + row['YEAR_MONTH'][-2:]],\n",
    "            fill=True,\n",
    "            fill_color=color_map['20' + row['YEAR_MONTH'][-2:]],\n",
    "            opacity=0.9,\n",
    "            fill_opacity=0.3,\n",
    "            ).add_to(i_map),\n",
    "        axis=1)\n",
    "    \n",
    "    # Group Data for Pivot\n",
    "    grouped_war_data = map_data.groupby(['YEAR_MONTH', 'EVENT_TYPE', 'ADMIN1']).count().reset_index()\n",
    "    # Subsect Data\n",
    "    grouped_war_data = grouped_war_data[grouped_war_data.columns[:4]]\n",
    "    # Rename Columns\n",
    "    grouped_war_data.columns = [*grouped_war_data.columns[:-1], 'Count']\n",
    "    # Display Column\n",
    "    print(tabulate(grouped_war_data.sort_values(by='Count', ascending=False),headers=[*grouped_war_data.columns], tablefmt='github', showindex=False), '\\n')\n",
    "    print(tabulate(table_data.groupby(by=['Date', 'Commodity']).median().reset_index(), headers=[*table_data.columns], tablefmt='github', showindex=False))\n",
    "    return i_map\n",
    "    \n",
    "\n",
    "# Display Interactive Table and Graph\n",
    "_ = widgets.interact(\n",
    "    generate_map, \n",
    "    date = SelectMultiple(options=war_data['YEAR_MONTH'].unique()),\n",
    "    event_type = SelectMultiple(options=sorted(war_data['EVENT_TYPE'].unique())), \n",
    "    region = SelectMultiple(options=sorted(war_data['ADMIN1'].unique())),\n",
    "    commodity = SelectMultiple(options=sorted(commodity_data['Commodity'].unique()))\n",
    "\n",
    ")\n",
    "\n"
   ]
  },
  {
   "cell_type": "code",
   "execution_count": null,
   "id": "a6ef5b47",
   "metadata": {},
   "outputs": [],
   "source": []
  }
 ],
 "metadata": {
  "kernelspec": {
   "display_name": "Python 3 (ipykernel)",
   "language": "python",
   "name": "python3"
  },
  "language_info": {
   "codemirror_mode": {
    "name": "ipython",
    "version": 3
   },
   "file_extension": ".py",
   "mimetype": "text/x-python",
   "name": "python",
   "nbconvert_exporter": "python",
   "pygments_lexer": "ipython3",
   "version": "3.9.7"
  },
  "vscode": {
   "interpreter": {
    "hash": "656a1a697b018a4b34acb267808339c513d4f79b55a758081ebdc9dd8892faad"
   }
  }
 },
 "nbformat": 4,
 "nbformat_minor": 5
}
