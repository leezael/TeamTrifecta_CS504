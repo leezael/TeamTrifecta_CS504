{
 "cells": [
  {
   "cell_type": "code",
   "execution_count": 1,
   "id": "e095fc74",
   "metadata": {},
   "outputs": [],
   "source": [
    "import pandas as pd\n",
    "import folium\n",
    "import ipywidgets as widgets  \n",
    "from ipywidgets import SelectMultiple\n",
    "\n",
    "war_data = pd.read_csv(r'data/war_events.csv', usecols=['YEAR_MONTH', 'EVENT_TYPE', 'SUB_EVENT_TYPE', 'ADMIN1', 'LATITUDE', 'LONGITUDE', 'FATALITIES', 'NOTES'])"
   ]
  },
  {
   "cell_type": "code",
   "execution_count": 2,
   "id": "34c02dc8",
   "metadata": {},
   "outputs": [
    {
     "data": {
      "application/vnd.jupyter.widget-view+json": {
       "model_id": "0818247ef22f4140b0f061c02d8defc6",
       "version_major": 2,
       "version_minor": 0
      },
      "text/plain": [
       "interactive(children=(SelectMultiple(description='date', options=('January 2018', 'February 2018', 'March 2018…"
      ]
     },
     "metadata": {},
     "output_type": "display_data"
    }
   ],
   "source": [
    "def generate_map(date: str, event_type: str, region: str) -> 'Subsected DataFrame':\n",
    "    \n",
    "    try:\n",
    "        if date[0].lower() == 'all':\n",
    "            date = war_data['YEAR_MONTH'].unique()\n",
    "        if event_type[0].lower() == 'all':\n",
    "            event_type = war_data.EVENT_TYPE.unique()\n",
    "        if region[0].lower() == 'all':\n",
    "            region = region.ADMIN1.unique()\n",
    "\n",
    "        map_data = war_data[(war_data['YEAR_MONTH'].isin(date))\n",
    "                        &(war_data['EVENT_TYPE'].isin(event_type))\n",
    "                        &(war_data['ADMIN1'].isin(region))]\n",
    "    except:\n",
    "        return 'No Data For Selected Parameters'\n",
    "\n",
    "    i_map = folium.Map(\n",
    "            location=[war_data[\"LATITUDE\"].mean(), war_data[\"LONGITUDE\"].mean()-3.5],\n",
    "            tiles='stamenterrain',\n",
    "            zoom_start=5.5,\n",
    "            zoom_control=False,\n",
    "            scrollWheelZoom=False,\n",
    "            dragging=False)\n",
    "\n",
    "    map_data.apply(\n",
    "        lambda row: folium.CircleMarker(\n",
    "            location=[row['LATITUDE'], row['LONGITUDE']],\n",
    "#             radius=row['FATALITIES']/20,\n",
    "            tooltip='<h5>Click here for more info</h5>',\n",
    "            popup=row['NOTES'],\n",
    "            stroke=True,\n",
    "            weight=1,\n",
    "            color=\"#3186cc\",\n",
    "            fill=True,\n",
    "            fill_color=\"#3186cc\",\n",
    "            opacity=0.9,\n",
    "            fill_opacity=0.3,\n",
    "            ).add_to(i_map),\n",
    "        axis=1)\n",
    "    return i_map\n",
    "    \n",
    "\n",
    "search_terms = {'date': ['all'],\n",
    "               'event_type': ['all'],\n",
    "               'region': ['all']}\n",
    "\n",
    "_ = widgets.interact(\n",
    "    generate_map, \n",
    "    date = SelectMultiple(options=war_data['YEAR_MONTH'].unique()),\n",
    "    event_type = SelectMultiple(options=war_data['EVENT_TYPE'].unique()), \n",
    "    region = SelectMultiple(options=war_data['ADMIN1'].unique()),\n",
    ")\n",
    "\n",
    "# Color Code Year\n",
    "# Add Average of Prices/Quantity Output Table into Interactive Narrative"
   ]
  },
  {
   "cell_type": "code",
   "execution_count": null,
   "id": "252d7251",
   "metadata": {},
   "outputs": [],
   "source": []
  }
 ],
 "metadata": {
  "kernelspec": {
   "display_name": "Python 3 (ipykernel)",
   "language": "python",
   "name": "python3"
  },
  "language_info": {
   "codemirror_mode": {
    "name": "ipython",
    "version": 3
   },
   "file_extension": ".py",
   "mimetype": "text/x-python",
   "name": "python",
   "nbconvert_exporter": "python",
   "pygments_lexer": "ipython3",
   "version": "3.9.7"
  }
 },
 "nbformat": 4,
 "nbformat_minor": 5
}
