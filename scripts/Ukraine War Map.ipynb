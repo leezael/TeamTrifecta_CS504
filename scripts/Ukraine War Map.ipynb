{
 "cells": [
  {
   "cell_type": "code",
   "execution_count": 15,
   "id": "e095fc74",
   "metadata": {},
   "outputs": [
    {
     "data": {
      "text/plain": [
       "array(['January 2018', 'February 2018', 'March 2018', 'April 2018',\n",
       "       'May 2018', 'June 2018', 'July 2018', 'August 2018',\n",
       "       'September 2018', 'October 2018', 'November 2018', 'December 2018',\n",
       "       'January 2019', 'February 2019', 'March 2019', 'April 2019',\n",
       "       'May 2019', 'June 2019', 'July 2019', 'August 2019',\n",
       "       'September 2019', 'October 2019', 'November 2019', 'December 2019',\n",
       "       'January 2020', 'February 2020', 'March 2020', 'April 2020',\n",
       "       'May 2020', 'June 2020', 'July 2020', 'August 2020',\n",
       "       'September 2020', 'October 2020', 'November 2020', 'December 2020',\n",
       "       'January 2021', 'February 2021', 'March 2021', 'April 2021',\n",
       "       'May 2021', 'June 2021', 'July 2021', 'August 2021',\n",
       "       'September 2021', 'October 2021', 'November 2021', 'December 2021',\n",
       "       'January 2022', 'February 2022', 'March 2022', 'April 2022',\n",
       "       'May 2022', 'June 2022', 'July 2022', 'August 2022',\n",
       "       'September 2022', 'October 2022'], dtype=object)"
      ]
     },
     "execution_count": 15,
     "metadata": {},
     "output_type": "execute_result"
    }
   ],
   "source": [
    "import pandas as pd\n",
    "import folium\n",
    "import ipywidgets as widgets  \n",
    "from ipywidgets import SelectMultiple\n",
    "from tabulate import tabulate\n",
    "\n",
    "war_data = pd.read_csv(r'data/war_events.csv', usecols=['YEAR_MONTH', 'EVENT_TYPE', 'SUB_EVENT_TYPE', 'ADMIN1', 'LATITUDE', 'LONGITUDE', 'FATALITIES', 'NOTES'])\n",
    "\n",
    "color_map = {'2019': '#DD2323',\n",
    "             '2018': '#3186cc',\n",
    "             '2020': '#1AAA27',\n",
    "             '2021': '#B81CA7',\n",
    "             '2022': '#B1B81C'}\n",
    "\n",
    "war_data.YEAR_MONTH.unique()"
   ]
  },
  {
   "cell_type": "code",
   "execution_count": 33,
   "id": "34c02dc8",
   "metadata": {},
   "outputs": [
    {
     "data": {
      "application/vnd.jupyter.widget-view+json": {
       "model_id": "312b258b92394f338d0134a50e0e7c0a",
       "version_major": 2,
       "version_minor": 0
      },
      "text/plain": [
       "interactive(children=(SelectMultiple(description='date', options=('January 2018', 'February 2018', 'March 2018…"
      ]
     },
     "metadata": {},
     "output_type": "display_data"
    }
   ],
   "source": [
    "def generate_map(date: str, event_type: str, region: str) -> 'Subsected DataFrame':\n",
    "    \n",
    "    try:\n",
    "        if date[0].lower() == 'all':\n",
    "            date = war_data['YEAR_MONTH'].unique()\n",
    "        if event_type[0].lower() == 'all':\n",
    "            event_type = war_data.EVENT_TYPE.unique()\n",
    "        if region[0].lower() == 'all':\n",
    "            region = region.ADMIN1.unique()\n",
    "\n",
    "        map_data = war_data[(war_data['YEAR_MONTH'].isin(date))\n",
    "                        &(war_data['EVENT_TYPE'].isin(event_type))\n",
    "                        &(war_data['ADMIN1'].isin(region))]\n",
    "    except:\n",
    "        return 'No Data For Selected Parameters'\n",
    "\n",
    "    i_map = folium.Map(\n",
    "            location=[war_data[\"LATITUDE\"].mean(), war_data[\"LONGITUDE\"].mean()-3.5],\n",
    "            tiles='stamenterrain',\n",
    "            zoom_start=5.5,\n",
    "            zoom_control=False,\n",
    "            scrollWheelZoom=False,\n",
    "            dragging=False)\n",
    "\n",
    "    map_data.apply(\n",
    "        lambda row: folium.CircleMarker(\n",
    "            location=[row['LATITUDE'], row['LONGITUDE']],\n",
    "#             radius=row['FATALITIES']/20,\n",
    "            tooltip='<h5>Click here for more info</h5>',\n",
    "            popup=row['NOTES'],\n",
    "            stroke=True,\n",
    "            weight=1,\n",
    "            color=\"#3186cc\",\n",
    "            fill=True,\n",
    "            fill_color=\"#3186cc\",\n",
    "            opacity=0.9,\n",
    "            fill_opacity=0.3,\n",
    "            ).add_to(i_map),\n",
    "        axis=1)\n",
    "    \n",
    "    grouped_war_data = map_data.groupby(['YEAR_MONTH', 'EVENT_TYPE', 'ADMIN1']).count().reset_index()\n",
    "    grouped_war_data = grouped_war_data[grouped_war_data.columns[:4]]\n",
    "    grouped_war_data.columns = [*grouped_war_data.columns[:-1], 'Count']\n",
    "    print(tabulate(grouped_war_data.sort_values(by='Count', ascending=False),headers=[*grouped_war_data.columns], tablefmt='github', showindex=False))\n",
    "    return i_map\n",
    "    \n",
    "\n",
    "search_terms = {'date': ['all'],\n",
    "               'event_type': ['all'],\n",
    "               'region': ['all']}\n",
    "\n",
    "_= widgets.interact(\n",
    "    generate_map, \n",
    "    date = SelectMultiple(options=war_data['YEAR_MONTH'].unique()),\n",
    "    event_type = SelectMultiple(options=war_data['EVENT_TYPE'].unique()), \n",
    "    region = SelectMultiple(options=war_data['ADMIN1'].unique()),\n",
    ")\n",
    "\n",
    "# Color Code Year\n",
    "# Add Average of Prices/Quantity Output Table into Interactive Narrative"
   ]
  },
  {
   "cell_type": "code",
   "execution_count": null,
   "id": "252d7251",
   "metadata": {},
   "outputs": [],
   "source": [
    "war"
   ]
  }
 ],
 "metadata": {
  "kernelspec": {
   "display_name": "Python 3 (ipykernel)",
   "language": "python",
   "name": "python3"
  },
  "language_info": {
   "codemirror_mode": {
    "name": "ipython",
    "version": 3
   },
   "file_extension": ".py",
   "mimetype": "text/x-python",
   "name": "python",
   "nbconvert_exporter": "python",
   "pygments_lexer": "ipython3",
   "version": "3.9.7"
  }
 },
 "nbformat": 4,
 "nbformat_minor": 5
}
