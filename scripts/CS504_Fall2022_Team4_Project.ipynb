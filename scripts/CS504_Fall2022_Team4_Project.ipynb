{
 "cells": [
  {
   "cell_type": "code",
   "execution_count": 12,
   "id": "212ff3a1-6f18-4da3-8c14-7123351ab9fc",
   "metadata": {},
   "outputs": [
    {
     "data": {
      "text/plain": [
       "DataFrame[key: string, value: string]"
      ]
     },
     "execution_count": 12,
     "metadata": {},
     "output_type": "execute_result"
    }
   ],
   "source": [
    "import pyspark\n",
    "from pyspark.sql import SparkSession\n",
    "spark=SparkSession.builder.appName(\"CS504_Project\").getOrCreate()\n",
    "from pyspark.sql.functions import *\n",
    "from datetime import date, datetime\n",
    "import time\n",
    "spark.sql(\"set spark.sql.legacy.timeParserPolicy=LEGACY\")"
   ]
  },
  {
   "cell_type": "code",
   "execution_count": 13,
   "id": "14eaaa0e-b066-4a73-b3bd-9ec4fb944ba5",
   "metadata": {},
   "outputs": [],
   "source": [
    "####################################################################################################################################################################\n",
    "# Read all files\n",
    "####################################################################################################################################################################\n",
    "# CSV options\n",
    "infer_schema = \"false\"\n",
    "first_row_is_header = \"true\"\n",
    "delimiter = \",\"\n",
    "file_type_csv = \"csv\"\n",
    "\n",
    "# War Events File.\n",
    "war_events = \"data/war_events.csv\"\n",
    "\n",
    "war = spark.read.format(file_type_csv) \\\n",
    "  .option(\"inferSchema\", infer_schema) \\\n",
    "  .option(\"header\", first_row_is_header) \\\n",
    "  .option(\"sep\", delimiter) \\\n",
    "  .load(war_events)\n",
    "\n",
    "# display(war)\n",
    "\n",
    "war.createOrReplaceTempView(\"WAR_EVENTS\")\n",
    "\n",
    "# Commodity Export File.\n",
    "commodity_exports = \"data/commodity_exports.csv\"\n",
    "\n",
    "exports_raw = spark.read.format(file_type_csv) \\\n",
    "  .option(\"inferSchema\", infer_schema) \\\n",
    "  .option(\"header\", first_row_is_header) \\\n",
    "  .option(\"sep\", delimiter) \\\n",
    "  .load(commodity_exports)\n",
    "\n",
    "exports = exports_raw.withColumn(\"Commodity\", when(exports_raw.Commodity == \"Dog or cat food; (not put up for retail sale), used in animal feeding\",\"AnimalFodder\") \\\n",
    "      .when(exports_raw.Commodity == \"Wheat and meslin\",\"Wheat\") \\\n",
    "      .when(exports_raw.Commodity == \"Iron ores and concentrates; including roasted iron pyrites\",\"IronOre\") \\\n",
    "      .when(exports_raw.Commodity == \"Slag, dross; (other than granulated slag), scalings and other waste from the manufacture of iron or steel\",\"Slag\") \\\n",
    "      .when(exports_raw.Commodity == \"Base metals, silver or gold, clad with platinum; not further worked than semi-manufactured\",\"GoldOre\") \\\n",
    "      .when(exports_raw.Commodity == \"Cereal groats and meal; of maize (corn)\",\"Corn\") \\\n",
    "     .when(exports_raw.Commodity == \"Vegetable oils; sunflower seed or safflower oil and their fractions, other than crude, whether or not refined, but not chemically modified\",\"SunflowerOil\") \\\n",
    "     .when(exports_raw.Commodity == \"Vegetable oils; low erucic acid rape or colza oil and its fractions, crude\",\"RapeseedOil\") \\\n",
    "     .when(exports_raw.Commodity == \"Copper ores and concentrates\",\"Copper\") \\\n",
    "     .when(exports_raw.Commodity == \"Coal; anthracite, whether or not pulverised, but not agglomerated\",\"Coal\") \\\n",
    "     .when(exports_raw.Commodity == \"Oils; petroleum oils and oils obtained from bituminous minerals, crude\",\"CrudePetroleum\") \\\n",
    "     .when(exports_raw.Commodity == \"Petroleum gases and other gaseous hydrocarbons; liquefied, natural gas\",\"RefinedPetroleum\") \\\n",
    "     .when(exports_raw.Commodity == \"Iron or steel, pig iron, spiegeleisen; granules thereof\",\"Steel\") \\\n",
    "     .when(exports_raw.Commodity == \"Steel, stainless; cold-drawn or cold-rolled, tubes and pipes of circular cross-section\",\"RolledSteel\") \\\n",
    "     .when(exports_raw.Commodity == \"Cooking appliances and plate warmers; for gas fuel or for both gas and other fuels, of iron or steel\",\"Gas\") \\\n",
    "     .when(exports_raw.Commodity == \"Steel, stainless; table, kitchen and other household articles and parts thereof\",\"StainlessSteel\") \\\n",
    "     .when(exports_raw.Commodity == \"Iron or steel; cast articles, excluding grinding balls and similar articles for mills, other than of non-malleable cast iron\",\"CastIron\") \\\n",
    "     .when(exports_raw.Commodity == \"Nickel; unwrought, not alloyed\",\"Nickel\") \\\n",
    "     .when(exports_raw.Commodity == \"Aluminium; unwrought, alloys\",\"Aluminium\") \\\n",
    "     .when(exports_raw.Commodity == \"Barley\",\"Barley\") \\\n",
    "      )\n",
    "\n",
    "\n",
    "# display(exports)\n",
    "exports.createOrReplaceTempView(\"EXPORTS\")\n",
    "\n",
    "# Commodity Prices File.\n",
    "commodity_prices = \"data/commodity_prices.csv\"\n",
    "\n",
    "prices = spark.read.format(file_type_csv) \\\n",
    "  .option(\"inferSchema\", infer_schema) \\\n",
    "  .option(\"header\", first_row_is_header) \\\n",
    "  .option(\"sep\", delimiter) \\\n",
    "  .load(commodity_prices)\n",
    "\n",
    "\n",
    "prices=prices.withColumnRenamed(\"Date\",\"Starting_Date\")\n",
    "# display(prices)\n",
    "prices.createOrReplaceTempView(\"PRICES\")"
   ]
  },
  {
   "cell_type": "code",
   "execution_count": 14,
   "id": "c94655b4-8607-42fc-b025-a248b54c6e50",
   "metadata": {},
   "outputs": [],
   "source": [
    "####################################################################################################################################################################\n",
    "# Calculating the Year-Month for all Files\n",
    "####################################################################################################################################################################\n",
    "transform_war_events=spark.sql(\"\"\" \n",
    "                               select  *,date_format(TO_DATE(EVENT_DATE,'dd-MMMM-yyyy'),'yyyy-MM') as EVENT_YEAR_MONTH from WAR_EVENTS\n",
    "                              \"\"\")\n",
    "group_war_events=transform_war_events.groupBy(\"EVENT_YEAR_MONTH\").agg(count(\"EVENT_TYPE\").alias(\"COUNT_OF_EVENTS\"))\n",
    "\n",
    "# group_war_events.show()\n",
    "group_war_events.createOrReplaceTempView(\"GROUP_EVENTS\")\n",
    "\n",
    "transform_exports=spark.sql(\"\"\" \n",
    "                               select  *,date_format(TO_DATE(Period,'yyyyMM'),'yyyy-MM') as PERIOD_YEAR_MONTH from EXPORTS\n",
    "                              \"\"\")\n",
    "# transform_exports.show(3)\n",
    "transform_exports.createOrReplaceTempView(\"GROUP_EXPORTS\")\n",
    "\n",
    "transform_prices=spark.sql(\"\"\" \n",
    "                               select  *,date_format(TO_DATE(Starting_Date,'MM/dd/yyyy'),'yyyy-MM') as DATE_YEAR_MONTH from PRICES\n",
    "                              \"\"\")\n",
    "# transform_prices.show(3)\n",
    "transform_prices.createOrReplaceTempView(\"GROUP_PRICES\")"
   ]
  },
  {
   "cell_type": "code",
   "execution_count": 15,
   "id": "b0b1960f-8550-4da1-b505-1938b2e80201",
   "metadata": {},
   "outputs": [
    {
     "data": {
      "text/plain": [
       "DataFrame[EVENT_YEAR_MONTH: string, COUNT_OF_EVENTS: bigint, REPORTER: string, PARTNER: string, Commodity: string, NETWEIGHT: string, TRADEVALUEINUSD: string, PRODUCERPRICE: string]"
      ]
     },
     "metadata": {},
     "output_type": "display_data"
    }
   ],
   "source": [
    "####################################################################################################################################################################\n",
    "# Joining of all Files Based on Date\n",
    "####################################################################################################################################################################\n",
    "join_events_prices_exports=spark.sql(\"\"\" \n",
    "                               select  EVENT_YEAR_MONTH, \n",
    "                                       COUNT_OF_EVENTS,\n",
    "                                       Reporter as REPORTER,\n",
    "                                       Partner as PARTNER,\n",
    "                                       GROUP_EXPORTS.Commodity,\n",
    "                                       'Netweight (kg)'  as NETWEIGHT,\n",
    "                                       'Trade Value (US$)' as TRADEVALUEINUSD,\n",
    "                                       Amount as PRODUCERPRICE\n",
    "                                       from \n",
    "                                       GROUP_EVENTS,\n",
    "                                       GROUP_PRICES,\n",
    "                                       GROUP_EXPORTS\n",
    "                                       where\n",
    "                                           EVENT_YEAR_MONTH = PERIOD_YEAR_MONTH\n",
    "                                       AND PERIOD_YEAR_MONTH = DATE_YEAR_MONTH\n",
    "                                       AND GROUP_EXPORTS.Commodity = GROUP_PRICES.Commodity\n",
    "                                     \n",
    "                              \"\"\")\n",
    "display(join_events_prices_exports)"
   ]
  },
  {
   "cell_type": "code",
   "execution_count": 16,
   "id": "3ae300fe-f81e-4afb-a9df-c8ea0572eacf",
   "metadata": {},
   "outputs": [
    {
     "name": "stderr",
     "output_type": "stream",
     "text": [
      "                                                                                \r"
     ]
    }
   ],
   "source": [
    "join_events_prices_exports.coalesce(1).write.format(\"parquet\").save(\"data/Joined_Events_Prices_Exports.parquet\")"
   ]
  },
  {
   "cell_type": "code",
   "execution_count": 17,
   "id": "60f74426-8ec5-4027-aadc-81bef49b8b43",
   "metadata": {},
   "outputs": [
    {
     "name": "stderr",
     "output_type": "stream",
     "text": [
      "[Stage 20:>                                                         (0 + 8) / 8]\r"
     ]
    },
    {
     "name": "stdout",
     "output_type": "stream",
     "text": [
      "+----------------+---------------+------------------+------------------+---------+--------------+-----------------+-------------+\n",
      "|EVENT_YEAR_MONTH|COUNT_OF_EVENTS|          REPORTER|           PARTNER|Commodity|     NETWEIGHT|  TRADEVALUEINUSD|PRODUCERPRICE|\n",
      "+----------------+---------------+------------------+------------------+---------+--------------+-----------------+-------------+\n",
      "|         2020-06|            993|         Lithuania|Russian Federation|    Steel|Netweight (kg)|Trade Value (US$)|        200.7|\n",
      "|         2020-06|            993|Russian Federation|           Ukraine|    Steel|Netweight (kg)|Trade Value (US$)|        200.7|\n",
      "|         2020-06|            993|          Slovenia|Russian Federation|    Wheat|Netweight (kg)|Trade Value (US$)|  169.7223367|\n",
      "|         2020-06|            993|           Germany|           Ukraine|    Steel|Netweight (kg)|Trade Value (US$)|        200.7|\n",
      "+----------------+---------------+------------------+------------------+---------+--------------+-----------------+-------------+\n",
      "only showing top 4 rows\n",
      "\n"
     ]
    },
    {
     "name": "stderr",
     "output_type": "stream",
     "text": [
      "                                                                                \r"
     ]
    }
   ],
   "source": [
    "join_events_prices_exports.show(4)"
   ]
  },
  {
   "cell_type": "code",
   "execution_count": null,
   "id": "c1bb8e6b-947d-416f-bd7a-ee84dc4057f1",
   "metadata": {},
   "outputs": [],
   "source": []
  }
 ],
 "metadata": {
  "kernelspec": {
   "display_name": "pyspark-env",
   "language": "python",
   "name": "pyspark-env"
  },
  "language_info": {
   "codemirror_mode": {
    "name": "ipython",
    "version": 3
   },
   "file_extension": ".py",
   "mimetype": "text/x-python",
   "name": "python",
   "nbconvert_exporter": "python",
   "pygments_lexer": "ipython3",
   "version": "3.9.12"
  }
 },
 "nbformat": 4,
 "nbformat_minor": 5
}
